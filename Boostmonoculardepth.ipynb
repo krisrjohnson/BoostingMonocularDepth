{
 "cells": [
  {
   "cell_type": "markdown",
   "metadata": {
    "id": "Vy3Sy5fxAApC"
   },
   "source": [
    "# Boosting Monocular Depth Estimation Models to High-Resolution via Content-Adaptive Multi-Resolution Merging\n",
    "\n",
    "This Colab Notebook contains an inference on the implementation from https://github.com/compphoto/BoostingMonocularDepth.\n",
    "\n",
    "It supports using [MiDas-v2][1] and [LeRes][2] but not [SGRnet][3].\n",
    "\n",
    "\n",
    "### Instructions\n",
    "0. Ensure using a GPU by setting \"Runtime/change runtime type\" to GPU\n",
    "1. Run code section 1\n",
    "2. Put your test images inside /content/inputs\n",
    "3. Run code section 2 :  it will download the needed model weights for both [MiDas-v2][1] and [LeRes][2]. \n",
    "\n",
    "5. Run code section 3\n",
    "4. Run code section \"Ours with MiDas\" or \"Ours with LeRes\" to generate the results \n",
    "3. Results will be generated in /content/outputs_midas or /content/outputs_leres folders. \n",
    "\n",
    "\n",
    "[1]: https://github.com/intel-isl/MiDaS/tree/v2\n",
    "[2]: https://github.com/aim-uofa/AdelaiDepth/tree/main/LeReS\n",
    "[3]: https://github.com/KexianHust/Structure-Guided-Ranking-Loss"
   ]
  },
  {
   "cell_type": "markdown",
   "metadata": {},
   "source": [
    "The code assumes ground truth is disparity, not depth."
   ]
  },
  {
   "cell_type": "code",
   "execution_count": 1,
   "metadata": {
    "id": "Q3HwE8ZNTBhh"
   },
   "outputs": [],
   "source": [
    "# Code section 1\n",
    "\n",
    "!mkdir -p inputs\n",
    "\n",
    "# output folders\n",
    "!mkdir -p outputs_midas\n",
    "!mkdir -p outputs_leres"
   ]
  },
  {
   "cell_type": "code",
   "execution_count": null,
   "metadata": {
    "id": "gUvYYzbz-D9k"
   },
   "outputs": [],
   "source": [
    "# Code section 2\n",
    "\n",
    "\n",
    "# Clone git repo\n",
    "!git clone https://github.com/krisrjohnson/BoostingMonocularDepth.git\n",
    "\n",
    "# !wget https://sfu.ca/~yagiz/CVPR21/latest_net_G.pth\n",
    "!gdown https://drive.google.com/u/0/uc?id=1cU2y-kMbt0Sf00Ns4CN2oO9qPJ8BensP&export=download\n",
    "\n",
    "# Downloading merge model weights\n",
    "!mkdir -p /content/BoostingMonocularDepth/pix2pix/checkpoints/mergemodel/\n",
    "!mv latest_net_G.pth /content/BoostingMonocularDepth/pix2pix/checkpoints/mergemodel/\n",
    "\n",
    "# Downloading Midas weights\n",
    "# !gdown https://drive.google.com/uc?id=1nqW_Hwj86kslfsXR7EnXpEWdO2csz1cC\n",
    "!gdown https://drive.google.com/uc?id=1kEtwYckofeZbpg2I1_xaP60IZ3yasS1p&export=download\n",
    "!mv model.pt /content/BoostingMonocularDepth/midas/\n",
    "\n",
    "# # Downloading LeRes weights\n",
    "!wget https://cloudstor.aarnet.edu.au/plus/s/lTIJF4vrvHCAI31/download\n",
    "!mv download /content/BoostingMonocularDepth/res101.pth"
   ]
  },
  {
   "cell_type": "code",
   "execution_count": null,
   "metadata": {},
   "outputs": [],
   "source": [
    "# sample image\n",
    "!gdown https://drive.google.com/uc?id=1jxxo5xKAvMC7U7BOmRk1wsl-u4c0iM68&export=download\n",
    "!mv Adirondack-perfect_im0.png /content/inputs/Adirondack-perfect_im0.png\n",
    "\n",
    "# !gdown https://drive.google.com/file/d/1IPqFLjXwSEOVqKzus9Asf2aL-hvL1mQ2&export=download\n",
    "# !mv Bicycle1-perfect-disp0.pfm /content/gt_depth/Bicycle1-perfect-im0.png"
   ]
  },
  {
   "cell_type": "code",
   "execution_count": null,
   "metadata": {
    "id": "JbgaIYODQ3jd"
   },
   "outputs": [],
   "source": [
    "# Code section 3\n",
    "%cd BoostingMonocularDepth/"
   ]
  },
  {
   "cell_type": "markdown",
   "metadata": {
    "id": "76wqxTAbVyeP"
   },
   "source": [
    "> After execution of Code section 3 you can run the following code sections multiple times to generate results but **do not run the previous code sections**. If you did so by mistake use \"Runtime/ Reset factory runtime\" and then start from step 0."
   ]
  },
  {
   "cell_type": "code",
   "execution_count": null,
   "metadata": {
    "id": "ZzcDgJfc9zrW"
   },
   "outputs": [],
   "source": [
    "# Running the method using MiDas\n",
    "!python run.py --colorize_results --Final --data_dir /content/inputs --output_dir  /content/outputs_midas/ --depthNet 0"
   ]
  },
  {
   "cell_type": "code",
   "execution_count": null,
   "metadata": {
    "id": "FNfFz3e4Qxdr"
   },
   "outputs": [],
   "source": [
    "# Running the method using LeRes\n",
    "!python run.py --Final --data_dir /content/inputs --output_dir  /content/outputs_leres/ --depthNet 2"
   ]
  },
  {
   "cell_type": "markdown",
   "metadata": {},
   "source": [
    "# Display Results"
   ]
  },
  {
   "cell_type": "code",
   "execution_count": 5,
   "metadata": {},
   "outputs": [],
   "source": [
    "import matplotlib.pyplot as plt\n",
    "from PIL import Image\n",
    "import numpy as np\n",
    "from pathlib import Path"
   ]
  },
  {
   "cell_type": "code",
   "execution_count": null,
   "metadata": {},
   "outputs": [],
   "source": [
    "img_files = sorted(list(Path('/content/outputs_midas/').iterdir()))\n",
    "fig, ax = plt.subplots(nrows=len(img_files), ncols=1)\n",
    "\n",
    "for i, img_file in enumerate(img_files):\n",
    "  img = Image.open(img_file)\n",
    "  img = np.array(img).astype('uint32')\n",
    "  if len(img_files) > 1:\n",
    "    ax[i].imshow(img)\n",
    "    ax[i].set_xlabel(img_file.stem)\n",
    "  else:\n",
    "    ax.imshow(img)\n",
    "    ax.set_xlabel(img_file.stem)"
   ]
  }
 ],
 "metadata": {
  "accelerator": "GPU",
  "colab": {
   "collapsed_sections": [],
   "name": "Boostmonoculardepth.ipynb",
   "provenance": []
  },
  "kernelspec": {
   "display_name": "Python 3",
   "language": "python",
   "name": "python3"
  },
  "language_info": {
   "codemirror_mode": {
    "name": "ipython",
    "version": 3
   },
   "file_extension": ".py",
   "mimetype": "text/x-python",
   "name": "python",
   "nbconvert_exporter": "python",
   "pygments_lexer": "ipython3",
   "version": "3.8.3"
  }
 },
 "nbformat": 4,
 "nbformat_minor": 1
}
